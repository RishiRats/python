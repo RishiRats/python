{
 "cells": [
  {
   "cell_type": "code",
   "execution_count": 1,
   "id": "953ebd6a",
   "metadata": {},
   "outputs": [],
   "source": [
    "import pandas as pd\n",
    "import numpy as np\n",
    "import matplotlib.pyplot as plt\n",
    "import seaborn as sns"
   ]
  },
  {
   "cell_type": "code",
   "execution_count": 2,
   "id": "f7dd22d0",
   "metadata": {},
   "outputs": [],
   "source": [
    "%matplotlib inline"
   ]
  },
  {
   "cell_type": "code",
   "execution_count": 5,
   "id": "dc2e35c9",
   "metadata": {},
   "outputs": [],
   "source": [
    "customers = pd.read_csv('Ecommerce Customers')"
   ]
  },
  {
   "cell_type": "code",
   "execution_count": 6,
   "id": "d1462350",
   "metadata": {},
   "outputs": [
    {
     "data": {
      "text/plain": [
       "Index(['Email', 'Address', 'Avatar', 'Avg. Session Length', 'Time on App',\n",
       "       'Time on Website', 'Length of Membership', 'Yearly Amount Spent'],\n",
       "      dtype='object')"
      ]
     },
     "execution_count": 6,
     "metadata": {},
     "output_type": "execute_result"
    }
   ],
   "source": [
    "customers.columns"
   ]
  },
  {
   "cell_type": "code",
   "execution_count": 7,
   "id": "ef15c396",
   "metadata": {},
   "outputs": [],
   "source": [
    "y = customers['Yearly Amount Spent']"
   ]
  },
  {
   "cell_type": "code",
   "execution_count": 8,
   "id": "e54a1a53",
   "metadata": {},
   "outputs": [
    {
     "data": {
      "text/plain": [
       "0    587.951054\n",
       "1    392.204933\n",
       "2    487.547505\n",
       "3    581.852344\n",
       "4    599.406092\n",
       "Name: Yearly Amount Spent, dtype: float64"
      ]
     },
     "execution_count": 8,
     "metadata": {},
     "output_type": "execute_result"
    }
   ],
   "source": [
    "y.head()"
   ]
  },
  {
   "cell_type": "code",
   "execution_count": 9,
   "id": "412deb38",
   "metadata": {},
   "outputs": [],
   "source": [
    "X= customers[['Avg. Session Length', 'Time on App',\n",
    "       'Time on Website', 'Length of Membership']]"
   ]
  },
  {
   "cell_type": "code",
   "execution_count": 10,
   "id": "e968a50a",
   "metadata": {},
   "outputs": [
    {
     "data": {
      "text/html": [
       "<div>\n",
       "<style scoped>\n",
       "    .dataframe tbody tr th:only-of-type {\n",
       "        vertical-align: middle;\n",
       "    }\n",
       "\n",
       "    .dataframe tbody tr th {\n",
       "        vertical-align: top;\n",
       "    }\n",
       "\n",
       "    .dataframe thead th {\n",
       "        text-align: right;\n",
       "    }\n",
       "</style>\n",
       "<table border=\"1\" class=\"dataframe\">\n",
       "  <thead>\n",
       "    <tr style=\"text-align: right;\">\n",
       "      <th></th>\n",
       "      <th>Avg. Session Length</th>\n",
       "      <th>Time on App</th>\n",
       "      <th>Time on Website</th>\n",
       "      <th>Length of Membership</th>\n",
       "    </tr>\n",
       "  </thead>\n",
       "  <tbody>\n",
       "    <tr>\n",
       "      <th>0</th>\n",
       "      <td>34.497268</td>\n",
       "      <td>12.655651</td>\n",
       "      <td>39.577668</td>\n",
       "      <td>4.082621</td>\n",
       "    </tr>\n",
       "    <tr>\n",
       "      <th>1</th>\n",
       "      <td>31.926272</td>\n",
       "      <td>11.109461</td>\n",
       "      <td>37.268959</td>\n",
       "      <td>2.664034</td>\n",
       "    </tr>\n",
       "    <tr>\n",
       "      <th>2</th>\n",
       "      <td>33.000915</td>\n",
       "      <td>11.330278</td>\n",
       "      <td>37.110597</td>\n",
       "      <td>4.104543</td>\n",
       "    </tr>\n",
       "    <tr>\n",
       "      <th>3</th>\n",
       "      <td>34.305557</td>\n",
       "      <td>13.717514</td>\n",
       "      <td>36.721283</td>\n",
       "      <td>3.120179</td>\n",
       "    </tr>\n",
       "    <tr>\n",
       "      <th>4</th>\n",
       "      <td>33.330673</td>\n",
       "      <td>12.795189</td>\n",
       "      <td>37.536653</td>\n",
       "      <td>4.446308</td>\n",
       "    </tr>\n",
       "  </tbody>\n",
       "</table>\n",
       "</div>"
      ],
      "text/plain": [
       "   Avg. Session Length  Time on App  Time on Website  Length of Membership\n",
       "0            34.497268    12.655651        39.577668              4.082621\n",
       "1            31.926272    11.109461        37.268959              2.664034\n",
       "2            33.000915    11.330278        37.110597              4.104543\n",
       "3            34.305557    13.717514        36.721283              3.120179\n",
       "4            33.330673    12.795189        37.536653              4.446308"
      ]
     },
     "execution_count": 10,
     "metadata": {},
     "output_type": "execute_result"
    }
   ],
   "source": [
    "X.head()"
   ]
  },
  {
   "cell_type": "code",
   "execution_count": 11,
   "id": "43d1b61a",
   "metadata": {},
   "outputs": [],
   "source": [
    "from sklearn.model_selection import train_test_split"
   ]
  },
  {
   "cell_type": "code",
   "execution_count": 12,
   "id": "37cec79b",
   "metadata": {},
   "outputs": [],
   "source": [
    "X_train, X_test, y_train, y_test = train_test_split(X, y, test_size=0.3, random_state=101)"
   ]
  },
  {
   "cell_type": "code",
   "execution_count": 15,
   "id": "17be5b4d",
   "metadata": {},
   "outputs": [],
   "source": [
    "from sklearn.linear_model import LinearRegression"
   ]
  },
  {
   "cell_type": "raw",
   "id": "e4e316c6",
   "metadata": {},
   "source": []
  },
  {
   "cell_type": "markdown",
   "id": "89498bf9",
   "metadata": {},
   "source": []
  },
  {
   "cell_type": "code",
   "execution_count": 16,
   "id": "8578fb9d",
   "metadata": {},
   "outputs": [],
   "source": [
    "lm = LinearRegression()"
   ]
  },
  {
   "cell_type": "code",
   "execution_count": 17,
   "id": "884c9a23",
   "metadata": {},
   "outputs": [
    {
     "data": {
      "text/plain": [
       "LinearRegression()"
      ]
     },
     "execution_count": 17,
     "metadata": {},
     "output_type": "execute_result"
    }
   ],
   "source": [
    "lm.fit(X_train, y_train)"
   ]
  },
  {
   "cell_type": "code",
   "execution_count": 18,
   "id": "9991f826",
   "metadata": {},
   "outputs": [
    {
     "data": {
      "text/plain": [
       "array([25.98154972, 38.59015875,  0.19040528, 61.27909654])"
      ]
     },
     "execution_count": 18,
     "metadata": {},
     "output_type": "execute_result"
    }
   ],
   "source": [
    "lm.coef_"
   ]
  },
  {
   "cell_type": "code",
   "execution_count": 19,
   "id": "0d299b92",
   "metadata": {},
   "outputs": [],
   "source": [
    "predictions = lm.predict(X_test)"
   ]
  },
  {
   "cell_type": "code",
   "execution_count": 20,
   "id": "d9c5a385",
   "metadata": {},
   "outputs": [
    {
     "data": {
      "text/plain": [
       "array([456.44186104, 402.72005312, 409.2531539 , 591.4310343 ,\n",
       "       590.01437275, 548.82396607, 577.59737969, 715.44428115,\n",
       "       473.7893446 , 545.9211364 , 337.8580314 , 500.38506697,\n",
       "       552.93478041, 409.6038964 , 765.52590754, 545.83973731,\n",
       "       693.25969124, 507.32416226, 573.10533175, 573.2076631 ,\n",
       "       397.44989709, 555.0985107 , 458.19868141, 482.66899911,\n",
       "       559.2655959 , 413.00946082, 532.25727408, 377.65464817,\n",
       "       535.0209653 , 447.80070905, 595.54339577, 667.14347072,\n",
       "       511.96042791, 573.30433971, 505.02260887, 565.30254655,\n",
       "       460.38785393, 449.74727868, 422.87193429, 456.55615271,\n",
       "       598.10493696, 449.64517443, 615.34948995, 511.88078685,\n",
       "       504.37568058, 515.95249276, 568.64597718, 551.61444684,\n",
       "       356.5552241 , 464.9759817 , 481.66007708, 534.2220025 ,\n",
       "       256.28674001, 505.30810714, 520.01844434, 315.0298707 ,\n",
       "       501.98080155, 387.03842642, 472.97419543, 432.8704675 ,\n",
       "       539.79082198, 590.03070739, 752.86997652, 558.27858232,\n",
       "       523.71988382, 431.77690078, 425.38411902, 518.75571466,\n",
       "       641.9667215 , 481.84855126, 549.69830187, 380.93738919,\n",
       "       555.18178277, 403.43054276, 472.52458887, 501.82927633,\n",
       "       473.5561656 , 456.76720365, 554.74980563, 702.96835044,\n",
       "       534.68884588, 619.18843136, 500.11974127, 559.43899225,\n",
       "       574.8730604 , 505.09183544, 529.9537559 , 479.20749452,\n",
       "       424.78407899, 452.20986599, 525.74178343, 556.60674724,\n",
       "       425.7142882 , 588.8473985 , 490.77053065, 562.56866231,\n",
       "       495.75782933, 445.17937217, 456.64011682, 537.98437395,\n",
       "       367.06451757, 421.12767301, 551.59651363, 528.26019754,\n",
       "       493.47639211, 495.28105313, 519.81827269, 461.15666582,\n",
       "       528.8711677 , 442.89818166, 543.20201646, 350.07871481,\n",
       "       401.49148567, 606.87291134, 577.04816561, 524.50431281,\n",
       "       554.11225704, 507.93347015, 505.35674292, 371.65146821,\n",
       "       342.37232987, 634.43998975, 523.46931378, 532.7831345 ,\n",
       "       574.59948331, 435.57455636, 599.92586678, 487.24017405,\n",
       "       457.66383406, 425.25959495, 331.81731213, 443.70458331,\n",
       "       563.47279005, 466.14764208, 463.51837671, 381.29445432,\n",
       "       411.88795623, 473.48087683, 573.31745784, 417.55430913,\n",
       "       543.50149858, 547.81091537, 547.62977348, 450.99057409,\n",
       "       561.50896321, 478.30076589, 484.41029555, 457.59099941,\n",
       "       411.52657592, 375.47900638])"
      ]
     },
     "execution_count": 20,
     "metadata": {},
     "output_type": "execute_result"
    }
   ],
   "source": [
    "predictions"
   ]
  },
  {
   "cell_type": "code",
   "execution_count": 21,
   "id": "293de24d",
   "metadata": {},
   "outputs": [],
   "source": [
    "from sklearn import metrics"
   ]
  },
  {
   "cell_type": "code",
   "execution_count": 22,
   "id": "3f55aa7a",
   "metadata": {},
   "outputs": [
    {
     "name": "stdout",
     "output_type": "stream",
     "text": [
      "MAE 7.228148653430832\n"
     ]
    }
   ],
   "source": [
    "print('MAE', metrics.mean_absolute_error(y_test, predictions))"
   ]
  },
  {
   "cell_type": "code",
   "execution_count": 23,
   "id": "f403365f",
   "metadata": {},
   "outputs": [
    {
     "name": "stdout",
     "output_type": "stream",
     "text": [
      "MSE 79.81305165097444\n"
     ]
    }
   ],
   "source": [
    "print('MSE', metrics.mean_squared_error(y_test, predictions))"
   ]
  },
  {
   "cell_type": "code",
   "execution_count": 24,
   "id": "0cf448ed",
   "metadata": {},
   "outputs": [
    {
     "name": "stdout",
     "output_type": "stream",
     "text": [
      "RMSE 2.688521648309872\n"
     ]
    }
   ],
   "source": [
    "print('RMSE', np.sqrt(metrics.mean_absolute_error(y_test, predictions)))"
   ]
  },
  {
   "cell_type": "code",
   "execution_count": 25,
   "id": "722ebb0b",
   "metadata": {},
   "outputs": [
    {
     "data": {
      "text/plain": [
       "0.9890771231889607"
      ]
     },
     "execution_count": 25,
     "metadata": {},
     "output_type": "execute_result"
    }
   ],
   "source": [
    "metrics.explained_variance_score(y_test, predictions)"
   ]
  },
  {
   "cell_type": "code",
   "execution_count": 26,
   "id": "26b99503",
   "metadata": {},
   "outputs": [
    {
     "data": {
      "text/plain": [
       "<seaborn.axisgrid.FacetGrid at 0x7fdfba021e50>"
      ]
     },
     "execution_count": 26,
     "metadata": {},
     "output_type": "execute_result"
    },
    {
     "data": {
      "image/png": "[encoded data removed]",
      "text/plain": [
       "<Figure size 360x360 with 1 Axes>"
      ]
     },
     "metadata": {
      "needs_background": "light"
     },
     "output_type": "display_data"
    }
   ],
   "source": [
    "sns.displot((y_test - predictions), bins=50)"
   ]
  },
  {
   "cell_type": "code",
   "execution_count": null,
   "id": "ce1b4597",
   "metadata": {},
   "outputs": [],
   "source": []
  }
 ],
 "metadata": {
  "kernelspec": {
   "display_name": "Python 3 (ipykernel)",
   "language": "python",
   "name": "python3"
  },
  "language_info": {
   "codemirror_mode": {
    "name": "ipython",
    "version": 3
   },
   "file_extension": ".py",
   "mimetype": "text/x-python",
   "name": "python",
   "nbconvert_exporter": "python",
   "pygments_lexer": "ipython3",
   "version": "3.9.7"
  }
 },
 "nbformat": 4,
 "nbformat_minor": 5
}
