{
 "cells": [
  {
   "cell_type": "code",
   "execution_count": 2,
   "id": "9cccfd75",
   "metadata": {},
   "outputs": [],
   "source": [
    "import string\n",
    "def ispangram(str1, a= string.ascii_lowercase):\n",
    "    aset =set(a)\n",
    "    str1 = str1.replace(' ','')\n",
    "    str1 = str1.lower()\n",
    "    str1 = set(str1)\n",
    "    return aset == str1"
   ]
  },
  {
   "cell_type": "code",
   "execution_count": 3,
   "id": "a2e9f7e5",
   "metadata": {},
   "outputs": [
    {
     "data": {
      "text/plain": [
       "True"
      ]
     },
     "execution_count": 3,
     "metadata": {},
     "output_type": "execute_result"
    }
   ],
   "source": [
    "ispangram('The quick brown fox jumps over the lazy dog')"
   ]
  },
  {
   "cell_type": "code",
   "execution_count": 4,
   "id": "337989af",
   "metadata": {},
   "outputs": [
    {
     "data": {
      "text/plain": [
       "False"
      ]
     },
     "execution_count": 4,
     "metadata": {},
     "output_type": "execute_result"
    }
   ],
   "source": [
    "ispangram('Test')"
   ]
  },
  {
   "cell_type": "code",
   "execution_count": null,
   "id": "84707677",
   "metadata": {},
   "outputs": [],
   "source": []
  }
 ],
 "metadata": {
  "kernelspec": {
   "display_name": "Python 3 (ipykernel)",
   "language": "python",
   "name": "python3"
  },
  "language_info": {
   "codemirror_mode": {
    "name": "ipython",
    "version": 3
   },
   "file_extension": ".py",
   "mimetype": "text/x-python",
   "name": "python",
   "nbconvert_exporter": "python",
   "pygments_lexer": "ipython3",
   "version": "3.9.7"
  }
 },
 "nbformat": 4,
 "nbformat_minor": 5
}
