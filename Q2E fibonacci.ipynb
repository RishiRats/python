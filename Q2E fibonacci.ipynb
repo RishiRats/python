{
 "cells": [
  {
   "cell_type": "code",
   "execution_count": 3,
   "id": "c8d42059",
   "metadata": {},
   "outputs": [
    {
     "name": "stdout",
     "output_type": "stream",
     "text": [
      "How many terms of the fibonacci series?10\n",
      "0\n",
      "1\n",
      "1\n",
      "2\n",
      "3\n",
      "5\n",
      "8\n",
      "13\n",
      "21\n",
      "34\n"
     ]
    }
   ],
   "source": [
    "def fibonacci(n):\n",
    "    count = 0\n",
    "    n1 = 0\n",
    "    n2 = 1\n",
    "    while count < n:\n",
    "        print(n1)\n",
    "        new_term = n1+n2\n",
    "        n1 = n2\n",
    "        n2 = new_term\n",
    "        count += 1\n",
    "n = int(input(\"How many terms of the fibonacci series?\"))\n",
    "fibonacci(n)"
   ]
  },
  {
   "cell_type": "code",
   "execution_count": null,
   "id": "a7b1729c",
   "metadata": {},
   "outputs": [],
   "source": []
  }
 ],
 "metadata": {
  "kernelspec": {
   "display_name": "Python 3 (ipykernel)",
   "language": "python",
   "name": "python3"
  },
  "language_info": {
   "codemirror_mode": {
    "name": "ipython",
    "version": 3
   },
   "file_extension": ".py",
   "mimetype": "text/x-python",
   "name": "python",
   "nbconvert_exporter": "python",
   "pygments_lexer": "ipython3",
   "version": "3.9.7"
  }
 },
 "nbformat": 4,
 "nbformat_minor": 5
}
