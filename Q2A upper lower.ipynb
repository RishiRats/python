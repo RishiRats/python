{
 "cells": [
  {
   "cell_type": "code",
   "execution_count": 2,
   "id": "84225b10",
   "metadata": {},
   "outputs": [],
   "source": [
    "def upper_lower(s):\n",
    "    l = 0\n",
    "    u = 0\n",
    "    for character in s:\n",
    "        if character.isupper():\n",
    "            u += 1\n",
    "        elif character.islower():\n",
    "            l += 1\n",
    "        else:\n",
    "            pass\n",
    "\n",
    "    print(f'original string: {s}')\n",
    "    print(f'uppercase count: {u}')\n",
    "    print(f'lowercase count: {l}')"
   ]
  },
  {
   "cell_type": "code",
   "execution_count": 3,
   "id": "fa3d77e9",
   "metadata": {},
   "outputs": [
    {
     "name": "stdout",
     "output_type": "stream",
     "text": [
      "original string: ThIs Is A TeSt SentEncE\n",
      "uppercase count: 9\n",
      "lowercase count: 10\n"
     ]
    }
   ],
   "source": [
    "upper_lower('ThIs Is A TeSt SentEncE')"
   ]
  },
  {
   "cell_type": "code",
   "execution_count": null,
   "id": "b2025968",
   "metadata": {},
   "outputs": [],
   "source": []
  }
 ],
 "metadata": {
  "kernelspec": {
   "display_name": "Python 3 (ipykernel)",
   "language": "python",
   "name": "python3"
  },
  "language_info": {
   "codemirror_mode": {
    "name": "ipython",
    "version": 3
   },
   "file_extension": ".py",
   "mimetype": "text/x-python",
   "name": "python",
   "nbconvert_exporter": "python",
   "pygments_lexer": "ipython3",
   "version": "3.9.7"
  }
 },
 "nbformat": 4,
 "nbformat_minor": 5
}
